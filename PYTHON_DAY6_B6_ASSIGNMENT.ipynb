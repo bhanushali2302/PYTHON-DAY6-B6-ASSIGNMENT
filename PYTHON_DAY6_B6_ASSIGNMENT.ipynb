{
  "nbformat": 4,
  "nbformat_minor": 0,
  "metadata": {
    "colab": {
      "name": "PYTHON DAY6 B6 ASSIGNMENT.ipynb",
      "provenance": []
    },
    "kernelspec": {
      "name": "python3",
      "display_name": "Python 3"
    }
  },
  "cells": [
    {
      "cell_type": "code",
      "metadata": {
        "id": "0UR51B365Gg8",
        "colab_type": "code",
        "colab": {}
      },
      "source": [
        "List1 = [1,2,3,4,5,7,8]\n",
        "List2 = ['a','b','c','d','e','f','g']\n",
        "d = {List1[n]: List2[n] for n in range(len(List1))}"
      ],
      "execution_count": 1,
      "outputs": []
    }
  ]
}